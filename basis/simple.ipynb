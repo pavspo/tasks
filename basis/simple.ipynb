{
 "cells": [
  {
   "cell_type": "raw",
   "source": [
    "1. Поиск максимального числа в списке"
   ],
   "metadata": {
    "collapsed": false
   },
   "id": "45db0cd73fcb3a15"
  },
  {
   "cell_type": "code",
   "outputs": [],
   "source": [
    "def find_max(lst):\n",
    "    pass\n",
    "\n",
    "print(find_max([1, 2, 3, 4, 5]))  # Выведет: 5"
   ],
   "metadata": {
    "collapsed": false
   },
   "id": "c3de61a98615e66"
  },
  {
   "cell_type": "markdown",
   "source": [
    "\n",
    "2.Написать функцию для вычисления факториала числа"
   ],
   "metadata": {
    "collapsed": false
   },
   "id": "c4ab37ab2653f0b9"
  },
  {
   "cell_type": "code",
   "outputs": [],
   "source": [
    "def factorial(n):\n",
    "    pass\n",
    "\n",
    "\n",
    "print(factorial(5))  # Выведет: 120"
   ],
   "metadata": {
    "collapsed": false
   },
   "id": "88e5fca4164a7169"
  },
  {
   "cell_type": "markdown",
   "source": [
    "3.Написать функцию, которая проверяет, является ли число простым"
   ],
   "metadata": {
    "collapsed": false
   },
   "id": "77d0b28cdb94cdb2"
  },
  {
   "cell_type": "code",
   "outputs": [],
   "source": [
    "def is_prime(n):\n",
    "    pass\n",
    "\n",
    "print(is_prime(11))  # Выведет: True"
   ],
   "metadata": {
    "collapsed": false
   },
   "id": "445f365dee336dab"
  },
  {
   "cell_type": "markdown",
   "source": [
    "4. Отфильтровать список чисел, оставив только четные"
   ],
   "metadata": {
    "collapsed": false
   },
   "id": "d538896399da377f"
  },
  {
   "cell_type": "code",
   "outputs": [],
   "source": [
    "def filter_even(lst):\n",
    "    pass\n",
    "\n",
    "print(filter_even([1, 2, 3, 4, 5, 6]))  # Выведет: [2, 4, 6]"
   ],
   "metadata": {
    "collapsed": false
   },
   "id": "eb4206882db104ab"
  },
  {
   "cell_type": "markdown",
   "source": [],
   "metadata": {
    "collapsed": false
   },
   "id": "1c049c37dc8387e7"
  },
  {
   "cell_type": "markdown",
   "source": [
    "5.Проверить, является ли строка палиндромом (1)"
   ],
   "metadata": {
    "collapsed": false
   },
   "id": "5ba351522465561a"
  },
  {
   "cell_type": "code",
   "outputs": [],
   "source": [
    "def is_palindrome(s):\n",
    "    pass\n",
    "\n",
    "print(is_palindrome(\"radar\"))  # Выведет: True"
   ],
   "metadata": {
    "collapsed": false
   },
   "id": "96ddf7af3119ce62"
  },
  {
   "cell_type": "markdown",
   "source": [
    "6.Написать функцию для слияния двух словарей в один (1)"
   ],
   "metadata": {
    "collapsed": false
   },
   "id": "8fff02daa4d28657"
  },
  {
   "cell_type": "code",
   "outputs": [],
   "source": [
    "def merge_dicts(d1, d2):\n",
    "    pass\n",
    "\n",
    "print(merge_dicts({'a': 1, 'b': 2}, {'c': 3, 'd': 4}))  # Выведет: {'a': 1, 'b': 2, 'c': 3, 'd': 4}"
   ],
   "metadata": {
    "collapsed": false
   },
   "id": "85f7ef4786ead575"
  },
  {
   "cell_type": "markdown",
   "source": [
    "7.Удалить все дубликаты из списка (1)"
   ],
   "metadata": {
    "collapsed": false
   },
   "id": "65c5404a78775025"
  },
  {
   "cell_type": "code",
   "outputs": [],
   "source": [
    "def remove_duplicates(lst):\n",
    "    pass\n",
    "\n",
    "print(remove_duplicates([1, 2, 2, 3, 4, 4]))  # Выведет: [1, 2, 3, 4]"
   ],
   "metadata": {
    "collapsed": false
   },
   "id": "7c304dfb1046188"
  },
  {
   "cell_type": "markdown",
   "source": [
    "8.Написать функцию для переворота строки (1)"
   ],
   "metadata": {
    "collapsed": false
   },
   "id": "36a6bf67c29cfc28"
  },
  {
   "cell_type": "code",
   "outputs": [],
   "source": [
    "def reverse_string(s):\n",
    "    pass\n",
    "\n",
    "print(reverse_string(\"hello\"))  # Выведет: \"olle"
   ],
   "metadata": {
    "collapsed": false
   },
   "id": "fe7e7ca73cf517a7"
  },
  {
   "cell_type": "markdown",
   "source": [
    "9.Найти сумму элементов списка (1)"
   ],
   "metadata": {
    "collapsed": false
   },
   "id": "b4334a80da05a248"
  },
  {
   "cell_type": "code",
   "outputs": [],
   "source": [
    "def sum_list(lst):\n",
    "    pass\n",
    "\n",
    "print(sum_list([1, 2, 3, 4, 5]))  # Выведет: 15"
   ],
   "metadata": {
    "collapsed": false
   },
   "id": "52979757482549e8"
  },
  {
   "cell_type": "markdown",
   "source": [
    "10.Написать функцию, возвращающую список первых N чисел Фибоначчи (4-5)"
   ],
   "metadata": {
    "collapsed": false
   },
   "id": "4ae67bd462181870"
  },
  {
   "cell_type": "code",
   "outputs": [],
   "source": [
    "def fibonacci(n):\n",
    "    pass\n",
    "\n",
    "print(fibonacci(5))  # Выведет: [0, 1, 1, 2, 3]"
   ],
   "metadata": {
    "collapsed": false
   },
   "id": "732ef82fedab67e3"
  },
  {
   "cell_type": "markdown",
   "source": [
    "11.Написать функцию, которая возвращает только уникальные элементы из списка 1"
   ],
   "metadata": {
    "collapsed": false
   },
   "id": "8ac88990ddf1ea7e"
  },
  {
   "cell_type": "code",
   "outputs": [],
   "source": [
    "def unique_elements(lst):\n",
    "    pass\n",
    "\n",
    "print(unique_elements([1, 2, 2, 3, 4, 4, 5]))  # Выведет: [1, 2, 3, 4, 5]"
   ],
   "metadata": {
    "collapsed": false
   },
   "id": "4197c8c83ab8e57b"
  },
  {
   "cell_type": "markdown",
   "source": [
    "12.Написать функцию для нахождения пересечения двух списков 1"
   ],
   "metadata": {
    "collapsed": false
   },
   "id": "81502dfb080eb7ee"
  },
  {
   "cell_type": "code",
   "outputs": [],
   "source": [
    "def intersection(lst1, lst2):\n",
    "    pass\n",
    "\n",
    "print(intersection([1, 2, 3, 4], [3, 4, 5, 6]))  # Выведет: [3, 4]"
   ],
   "metadata": {
    "collapsed": false
   },
   "id": "2c973cc0589af136"
  },
  {
   "cell_type": "markdown",
   "source": [
    "13.Написать функцию, которая вычисляет разницу между двумя датами в днях 3-4"
   ],
   "metadata": {
    "collapsed": false
   },
   "id": "bef4cc4212fa8381"
  },
  {
   "cell_type": "code",
   "outputs": [],
   "source": [
    "from datetime import datetime\n",
    "\n",
    "def days_between(d1, d2):\n",
    "    pass\n",
    "\n",
    "print(days_between(\"2023-01-01\", \"2023-01-31\"))  # Выведет: 30"
   ],
   "metadata": {
    "collapsed": false
   },
   "id": "524dcb263be14e88"
  },
  {
   "cell_type": "markdown",
   "source": [
    "14.Группировать слова в списке по длине 4-5"
   ],
   "metadata": {
    "collapsed": false
   },
   "id": "262123c809e9d4e0"
  },
  {
   "cell_type": "code",
   "outputs": [],
   "source": [
    "from collections import defaultdict\n",
    "\n",
    "def group_by_length(words):\n",
    "    pass\n",
    "\n",
    "print(group_by_length([\"hello\", \"world\", \"python\", \"is\", \"awesome\"]))  # Выведет: {5: ['hello', 'world'], 6: ['python'], 2: ['is'], 7: ['awesome']}"
   ],
   "metadata": {
    "collapsed": false
   },
   "id": "375969a5d736066a"
  },
  {
   "cell_type": "markdown",
   "source": [
    "15.Написать функцию, которая проверяет, содержит ли строка данную подстроку"
   ],
   "metadata": {
    "collapsed": false
   },
   "id": "b1c0083c1090324c"
  },
  {
   "cell_type": "code",
   "outputs": [],
   "source": [
    "def contains_substring(s, sub):\n",
    "    pass\n",
    "\n",
    "print(contains_substring(\"hello world\", \"world\"))  # Выведет: True"
   ],
   "metadata": {
    "collapsed": false
   },
   "id": "642ee907d23f2a9e"
  },
  {
   "cell_type": "markdown",
   "source": [
    "16.Отсортировать список кортежей по второму элементу в каждом кортеже lambda 1"
   ],
   "metadata": {
    "collapsed": false
   },
   "id": "2926d75c133b5b22"
  },
  {
   "cell_type": "code",
   "outputs": [],
   "source": [
    "def sort_tuples(lst):\n",
    "    pass\n",
    "\n",
    "print(sort_tuples([(1, 3), (3, 2), (2, 1)]))  # Выведет: [(2, 1), (3, 2), (1, 3)]"
   ],
   "metadata": {
    "collapsed": false
   },
   "id": "89872bffefe6a778"
  },
  {
   "cell_type": "markdown",
   "source": [
    "17.Написать функцию, которая преобразует строку в список слов"
   ],
   "metadata": {
    "collapsed": false
   },
   "id": "24f3fbd14af4ebc2"
  },
  {
   "cell_type": "code",
   "outputs": [],
   "source": [
    "def split_to_words(s):\n",
    "    pass\n",
    "\n",
    "print(split_to_words(\"hello world\"))  # Выведет: ['hello', 'world']"
   ],
   "metadata": {
    "collapsed": false
   },
   "id": "44a1adfd20c1ffd3"
  },
  {
   "cell_type": "markdown",
   "source": [
    "18.Преобразовать список чисел в строку, где числа разделены запятыми"
   ],
   "metadata": {
    "collapsed": false
   },
   "id": "f5793e51137372d"
  },
  {
   "cell_type": "code",
   "outputs": [],
   "source": [
    "def list_to_string(lst):\n",
    "    pass\n",
    "\n",
    "print(list_to_string([1, 2, 3, 4, 5]))  # Выведет: \"1, 2, 3, 4, 5\""
   ],
   "metadata": {
    "collapsed": false
   },
   "id": "d3cd94c503cc98c9"
  },
  {
   "cell_type": "markdown",
   "source": [
    "19.Создать словарь, где ключи взяты из одного списка, а значения из другого"
   ],
   "metadata": {
    "collapsed": false
   },
   "id": "d4b9f5bce0a2d02f"
  },
  {
   "cell_type": "code",
   "outputs": [],
   "source": [
    "def create_dict(keys, values):\n",
    "    pass\n",
    "\n",
    "print(create_dict(['a', 'b', 'c'], [1, 2, 3]))  # Выведет: {'a': 1, 'b': 2, 'c': 3}"
   ],
   "metadata": {
    "collapsed": false
   },
   "id": "618eae7060698f91"
  },
  {
   "cell_type": "markdown",
   "source": [],
   "metadata": {
    "collapsed": false
   },
   "id": "e675bfc1fbea02e4"
  },
  {
   "cell_type": "markdown",
   "source": [],
   "metadata": {
    "collapsed": false
   },
   "id": "79b8dacc90c914af"
  },
  {
   "cell_type": "raw",
   "source": [
    "1. Поиск максимального числа в списке"
   ],
   "metadata": {
    "collapsed": false
   },
   "id": "a10a971a72567ca1"
  },
  {
   "cell_type": "code",
   "outputs": [],
   "source": [
    "def find_max(lst):\n",
    "    max_num = lst[0]\n",
    "    for num in lst:\n",
    "        if num > max_num:\n",
    "            max_num = num\n",
    "    return max_num\n",
    "\n",
    "print(find_max([1, 2, 3, 4, 5]))  # Выведет: 5"
   ],
   "metadata": {
    "collapsed": false
   },
   "id": "a8f2f3a46d733652",
   "execution_count": null
  },
  {
   "cell_type": "markdown",
   "source": [
    "\n",
    "2.Написать функцию для вычисления факториала числа"
   ],
   "metadata": {
    "collapsed": false
   },
   "id": "7437975abba1f349"
  },
  {
   "cell_type": "code",
   "outputs": [],
   "source": [
    "def factorial(n):\n",
    "    if n == 0:\n",
    "        return 1\n",
    "    else:\n",
    "        return n * factorial(n-1)\n",
    "\n",
    "print(factorial(5))  # Выведет: 120"
   ],
   "metadata": {
    "collapsed": false
   },
   "id": "cbea9a0460f3ae1",
   "execution_count": null
  },
  {
   "cell_type": "markdown",
   "source": [
    "3.Написать функцию, которая проверяет, является ли число простым"
   ],
   "metadata": {
    "collapsed": false
   },
   "id": "379225841ab883cd"
  },
  {
   "cell_type": "code",
   "outputs": [],
   "source": [
    "def is_prime(n):\n",
    "    if n <= 1:\n",
    "        return False\n",
    "    for i in range(2, int(n**0.5) + 1):\n",
    "        if n % i == 0:\n",
    "            return False\n",
    "    return True\n",
    "\n",
    "print(is_prime(11))  # Выведет: True"
   ],
   "metadata": {
    "collapsed": false
   },
   "id": "80fa02721eb32252",
   "execution_count": null
  },
  {
   "cell_type": "markdown",
   "source": [
    "4. Отфильтровать список чисел, оставив только четные"
   ],
   "metadata": {
    "collapsed": false
   },
   "id": "602b4aa8606ecadf"
  },
  {
   "cell_type": "markdown",
   "source": [],
   "metadata": {
    "collapsed": false
   },
   "id": "731f03d6660d73c3"
  },
  {
   "cell_type": "code",
   "outputs": [],
   "source": [
    "def filter_even(lst):\n",
    "    return [num for num in lst if num % 2 == 0]\n",
    "\n",
    "print(filter_even([1, 2, 3, 4, 5, 6]))  # Выведет: [2, 4, 6]"
   ],
   "metadata": {
    "collapsed": false
   },
   "id": "9023f9194dc5310c"
  },
  {
   "cell_type": "markdown",
   "source": [
    "5.Проверить, является ли строка палиндромом"
   ],
   "metadata": {
    "collapsed": false
   },
   "id": "2d94183acff6b018"
  },
  {
   "cell_type": "code",
   "outputs": [],
   "source": [
    "def is_palindrome(s):\n",
    "    return s == s[::-1]\n",
    "\n",
    "print(is_palindrome(\"radar\"))  # Выведет: True"
   ],
   "metadata": {
    "collapsed": false
   },
   "id": "4f572b51993ced34"
  },
  {
   "cell_type": "markdown",
   "source": [
    "6.Написать функцию для слияния двух словарей в один"
   ],
   "metadata": {
    "collapsed": false
   },
   "id": "7330c82a697a3f1d"
  },
  {
   "cell_type": "code",
   "outputs": [],
   "source": [
    "def merge_dicts(d1, d2):\n",
    "    return {**d1, **d2}\n",
    "\n",
    "print(merge_dicts({'a': 1, 'b': 2}, {'c': 3, 'd': 4}))  # Выведет: {'a': 1, 'b': 2, 'c': 3, 'd': 4}"
   ],
   "metadata": {
    "collapsed": false
   },
   "id": "f434a6b0567a77f0"
  },
  {
   "cell_type": "markdown",
   "source": [
    "7.Удалить все дубликаты из списка\n"
   ],
   "metadata": {
    "collapsed": false
   },
   "id": "c421086f00f5213e"
  },
  {
   "cell_type": "code",
   "outputs": [],
   "source": [
    "def remove_duplicates(lst):\n",
    "    return list(set(lst))\n",
    "\n",
    "print(remove_duplicates([1, 2, 2, 3, 4, 4]))  # Выведет: [1, 2, 3, 4]"
   ],
   "metadata": {
    "collapsed": false
   },
   "id": "a71d352f07e3ea9e"
  },
  {
   "cell_type": "markdown",
   "source": [
    "8.Написать функцию для переворота строки"
   ],
   "metadata": {
    "collapsed": false
   },
   "id": "e7d6540f3fdb1dfc"
  },
  {
   "cell_type": "code",
   "outputs": [],
   "source": [
    "def reverse_string(s):\n",
    "    return s[::-1]\n",
    "\n",
    "print(reverse_string(\"hello\"))  # Выведет: \"olle"
   ],
   "metadata": {
    "collapsed": false
   },
   "id": "550dde6e905d145"
  },
  {
   "cell_type": "markdown",
   "source": [],
   "metadata": {
    "collapsed": false
   },
   "id": "44f952d9b9c1ae1c"
  },
  {
   "cell_type": "markdown",
   "source": [
    "9.Найти сумму элементов списка"
   ],
   "metadata": {
    "collapsed": false
   },
   "id": "d3dcf7b75bc64163"
  },
  {
   "cell_type": "code",
   "outputs": [],
   "source": [
    "def sum_list(lst):\n",
    "    return sum(lst)\n",
    "\n",
    "print(sum_list([1, 2, 3, 4, 5]))  # Выведет: 15"
   ],
   "metadata": {
    "collapsed": false
   },
   "id": "5d814b9453876774"
  },
  {
   "cell_type": "markdown",
   "source": [
    "10.Написать функцию, возвращающую список первых N чисел Фибоначчи"
   ],
   "metadata": {
    "collapsed": false
   },
   "id": "7eee9beab6a5f176"
  },
  {
   "cell_type": "code",
   "outputs": [],
   "source": [
    "def fibonacci(n):\n",
    "    fib = [0, 1]\n",
    "    for i in range(2, n):\n",
    "        fib.append(fib[i-1] + fib[i-2])\n",
    "    return fib[:n]\n",
    "\n",
    "print(fibonacci(5))  # Выведет: [0, 1, 1, 2, 3]"
   ],
   "metadata": {
    "collapsed": false
   },
   "id": "26aedf6eab88b183"
  },
  {
   "cell_type": "markdown",
   "source": [
    "11.Написать функцию, которая возвращает только уникальные элементы из списка"
   ],
   "metadata": {
    "collapsed": false
   },
   "id": "eab2f5291c5584c2"
  },
  {
   "cell_type": "code",
   "outputs": [],
   "source": [
    "def unique_elements(lst):\n",
    "    return list(set(lst))\n",
    "\n",
    "print(unique_elements([1, 2, 2, 3, 4, 4, 5]))  # Выведет: [1, 2, 3, 4, 5]"
   ],
   "metadata": {
    "collapsed": false
   },
   "id": "4a4c27e689581f84"
  },
  {
   "cell_type": "markdown",
   "source": [
    "12.Написать функцию для нахождения пересечения двух списков"
   ],
   "metadata": {
    "collapsed": false
   },
   "id": "70bd77f5308b9648"
  },
  {
   "cell_type": "code",
   "outputs": [],
   "source": [
    "def intersection(lst1, lst2):\n",
    "    return list(set(lst1) & set(lst2))\n",
    "\n",
    "print(intersection([1, 2, 3, 4], [3, 4, 5, 6]))  # Выведет: [3, 4]"
   ],
   "metadata": {
    "collapsed": false
   },
   "id": "a3ce440cb476420"
  },
  {
   "cell_type": "markdown",
   "source": [
    "13.Написать функцию, которая вычисляет разницу между двумя датами в днях"
   ],
   "metadata": {
    "collapsed": false
   },
   "id": "53e6822dfa2565a2"
  },
  {
   "cell_type": "code",
   "outputs": [],
   "source": [
    "from datetime import datetime\n",
    "\n",
    "def days_between(d1, d2):\n",
    "    d1 = datetime.strptime(d1, \"%Y-%m-%d\")\n",
    "    d2 = datetime.strptime(d2, \"%Y-%m-%d\")\n",
    "    return abs((d2 - d1).days)\n",
    "\n",
    "print(days_between(\"2023-01-01\", \"2023-01-31\"))  # Выведет: 30"
   ],
   "metadata": {
    "collapsed": false
   },
   "id": "1099e0a44fecd4cd"
  },
  {
   "cell_type": "markdown",
   "source": [
    "14.Группировать слова в списке по длине"
   ],
   "metadata": {
    "collapsed": false
   },
   "id": "40bf615103a04783"
  },
  {
   "cell_type": "code",
   "outputs": [],
   "source": [
    "from collections import defaultdict\n",
    "\n",
    "def group_by_length(words):\n",
    "    groups = defaultdict(list)\n",
    "    for word in words:\n",
    "        groups[len(word)].append(word)\n",
    "    return dict(groups)\n",
    "\n",
    "print(group_by_length([\"hello\", \"world\", \"python\", \"is\", \"awesome\"]))  # Выведет: {5: ['hello', 'world'], 6: ['python'], 2: ['is'], 7: ['awesome']}"
   ],
   "metadata": {
    "collapsed": false
   },
   "id": "de5125513a258772"
  },
  {
   "cell_type": "markdown",
   "source": [
    "15.Написать функцию, которая проверяет, содержит ли строка данную подстроку"
   ],
   "metadata": {
    "collapsed": false
   },
   "id": "c71b64b26a980e21"
  },
  {
   "cell_type": "code",
   "outputs": [],
   "source": [
    "def contains_substring(s, sub):\n",
    "    return sub in s\n",
    "\n",
    "print(contains_substring(\"hello world\", \"world\"))  # Выведет: True"
   ],
   "metadata": {
    "collapsed": false
   },
   "id": "6fbc2e279be776b1"
  },
  {
   "cell_type": "markdown",
   "source": [
    "16.Отсортировать список кортежей по второму элементу в каждом кортеже"
   ],
   "metadata": {
    "collapsed": false
   },
   "id": "113ce03223c4f1f8"
  },
  {
   "cell_type": "code",
   "outputs": [],
   "source": [
    "def sort_tuples(lst):\n",
    "    return sorted(lst, key=lambda x: x[1])\n",
    "\n",
    "print(sort_tuples([(1, 3), (3, 2), (2, 1)]))  # Выведет: [(2, 1), (3, 2), (1, 3)]"
   ],
   "metadata": {
    "collapsed": false
   },
   "id": "d32d2c8e5b2e68cb"
  },
  {
   "cell_type": "markdown",
   "source": [
    "17.Написать функцию, которая преобразует строку в список слов"
   ],
   "metadata": {
    "collapsed": false
   },
   "id": "2b325480a5881670"
  },
  {
   "cell_type": "code",
   "outputs": [],
   "source": [
    "def split_to_words(s):\n",
    "    return s.split()\n",
    "\n",
    "print(split_to_words(\"hello world\"))  # Выведет: ['hello', 'world']"
   ],
   "metadata": {
    "collapsed": false
   },
   "id": "acf4eeb3f824253b"
  },
  {
   "cell_type": "markdown",
   "source": [
    "18.Преобразовать список чисел в строку, где числа разделены запятыми"
   ],
   "metadata": {
    "collapsed": false
   },
   "id": "1a22f859e5603da"
  },
  {
   "cell_type": "code",
   "outputs": [],
   "source": [
    "def list_to_string(lst):\n",
    "    return \", \".join(map(str, lst))\n",
    "\n",
    "print(list_to_string([1, 2, 3, 4, 5]))  # Выведет: \"1, 2, 3, 4, 5\""
   ],
   "metadata": {
    "collapsed": false
   },
   "id": "5f1a1b774d4e8668"
  },
  {
   "cell_type": "markdown",
   "source": [
    "19.Создать словарь, где ключи взяты из одного списка, а значения из другого"
   ],
   "metadata": {
    "collapsed": false
   },
   "id": "6b5bdf9a69552cd1"
  },
  {
   "cell_type": "code",
   "outputs": [],
   "source": [
    "def create_dict(keys, values):\n",
    "    return dict(zip(keys, values))\n",
    "\n",
    "print(create_dict(['a', 'b', 'c'], [1, 2, 3]))  # Выведет: {'a': 1, 'b': 2, 'c': 3}"
   ],
   "metadata": {
    "collapsed": false
   },
   "id": "37ff843ee5f516e4"
  }
 ],
 "metadata": {
  "kernelspec": {
   "display_name": "Python 3",
   "language": "python",
   "name": "python3"
  },
  "language_info": {
   "codemirror_mode": {
    "name": "ipython",
    "version": 2
   },
   "file_extension": ".py",
   "mimetype": "text/x-python",
   "name": "python",
   "nbconvert_exporter": "python",
   "pygments_lexer": "ipython2",
   "version": "2.7.6"
  }
 },
 "nbformat": 4,
 "nbformat_minor": 5
}
